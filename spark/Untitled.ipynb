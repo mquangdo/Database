{
 "cells": [
  {
   "cell_type": "code",
   "execution_count": 5,
   "id": "29e7ec18-37f8-4f73-bdad-5d3a6640c432",
   "metadata": {},
   "outputs": [],
   "source": [
    "import pyspark\n",
    "import pandas as pd"
   ]
  },
  {
   "cell_type": "code",
   "execution_count": 7,
   "id": "815f446e-92e9-4b58-a7f7-b01ea376a10f",
   "metadata": {},
   "outputs": [],
   "source": [
    "from pyspark.sql import SparkSession\n",
    "from pyspark.sql import Row\n",
    "from datetime import datetime, date"
   ]
  },
  {
   "cell_type": "code",
   "execution_count": 227,
   "id": "87c23fd0-f0d4-4a53-a949-36978a61b68b",
   "metadata": {},
   "outputs": [],
   "source": [
    "def create_df_scratch(df: pd.DataFrame):\n",
    "    df.to_csv('a', index=False)\n",
    "    spark_df = spark.read.csv('a', header=True)\n",
    "    return spark_df"
   ]
  },
  {
   "cell_type": "code",
   "execution_count": 9,
   "id": "44bfac9d-e6da-4043-be0e-edfe36d249a4",
   "metadata": {},
   "outputs": [],
   "source": [
    "spark = SparkSession.builder.appName('Test').getOrCreate()"
   ]
  },
  {
   "cell_type": "code",
   "execution_count": 10,
   "id": "c3a7c3e5-046c-4f4b-a3a6-360f779eafb1",
   "metadata": {},
   "outputs": [
    {
     "name": "stdout",
     "output_type": "stream",
     "text": [
      "3.5.1\n"
     ]
    }
   ],
   "source": [
    "print(pyspark.__version__)"
   ]
  },
  {
   "cell_type": "code",
   "execution_count": 13,
   "id": "7abad8fb-095e-4304-91e6-eabac1d849f7",
   "metadata": {},
   "outputs": [
    {
     "data": {
      "text/html": [
       "\n",
       "            <div>\n",
       "                <p><b>SparkSession - in-memory</b></p>\n",
       "                \n",
       "        <div>\n",
       "            <p><b>SparkContext</b></p>\n",
       "\n",
       "            <p><a href=\"http://LAPTOP-LR8G760H:4040\">Spark UI</a></p>\n",
       "\n",
       "            <dl>\n",
       "              <dt>Version</dt>\n",
       "                <dd><code>v3.5.1</code></dd>\n",
       "              <dt>Master</dt>\n",
       "                <dd><code>local[*]</code></dd>\n",
       "              <dt>AppName</dt>\n",
       "                <dd><code>Test</code></dd>\n",
       "            </dl>\n",
       "        </div>\n",
       "        \n",
       "            </div>\n",
       "        "
      ],
      "text/plain": [
       "<pyspark.sql.session.SparkSession at 0x19883b736b0>"
      ]
     },
     "execution_count": 13,
     "metadata": {},
     "output_type": "execute_result"
    }
   ],
   "source": [
    "spark"
   ]
  },
  {
   "cell_type": "code",
   "execution_count": 28,
   "id": "c4d6bcb2-ff4a-48aa-8e93-10161ac3961e",
   "metadata": {},
   "outputs": [],
   "source": [
    "df = pd.DataFrame({'Name':['Krish','Sudhanshu','Sunny'], 'age':[31,30,29]})"
   ]
  },
  {
   "cell_type": "code",
   "execution_count": 17,
   "id": "5ff9780e-cb9c-4407-ab0c-a71ec912b448",
   "metadata": {},
   "outputs": [
    {
     "name": "stdout",
     "output_type": "stream",
     "text": [
      "+--------+--------------------+\n",
      "|Category|             Message|\n",
      "+--------+--------------------+\n",
      "|     ham|Go until jurong p...|\n",
      "|     ham|Ok lar... Joking ...|\n",
      "|    spam|Free entry in 2 a...|\n",
      "|     ham|U dun say so earl...|\n",
      "|     ham|Nah I don't think...|\n",
      "|    spam|FreeMsg Hey there...|\n",
      "|     ham|Even my brother i...|\n",
      "|     ham|As per your reque...|\n",
      "|    spam|WINNER!! As a val...|\n",
      "|    spam|Had your mobile 1...|\n",
      "|     ham|I'm gonna be home...|\n",
      "|    spam|SIX chances to wi...|\n",
      "|    spam|URGENT! You have ...|\n",
      "|     ham|I've been searchi...|\n",
      "|     ham|I HAVE A DATE ON ...|\n",
      "|    spam|XXXMobileMovieClu...|\n",
      "|     ham|Oh k...i'm watchi...|\n",
      "|     ham|Eh u remember how...|\n",
      "|     ham|Fine if thats th...|\n",
      "|    spam|England v Macedon...|\n",
      "|     ham|Is that seriously...|\n",
      "|     ham|I‘m going to try ...|\n",
      "|     ham|So ü pay first la...|\n",
      "|     ham|Aft i finish my l...|\n",
      "|     ham|Ffffffffff. Alrig...|\n",
      "|     ham|Just forced mysel...|\n",
      "|     ham|Lol your always s...|\n",
      "|     ham|Did you catch the...|\n",
      "|     ham|I'm back &amp; we...|\n",
      "|     ham|Ahhh. Work. I vag...|\n",
      "|     ham|Wait that's still...|\n",
      "|     ham|Yeah he got in at...|\n",
      "|     ham|K tell me anythin...|\n",
      "|     ham|For fear of faint...|\n",
      "|    spam|Thanks for your s...|\n",
      "|     ham|Yup... Ok i go ho...|\n",
      "|     ham|Oops, I'll let yo...|\n",
      "|     ham|I see the letter ...|\n",
      "|     ham|Anything lor... U...|\n",
      "|     ham|Hello! How's you ...|\n",
      "|     ham|Pls go ahead with...|\n",
      "|     ham|Did I forget to t...|\n",
      "|    spam|07732584351 - Rod...|\n",
      "|     ham| WHO ARE YOU SEEING?|\n",
      "|     ham|Great! I hope you...|\n",
      "|     ham|No calls..message...|\n",
      "|     ham|Didn't you get he...|\n",
      "|     ham|Fair enough, anyt...|\n",
      "|     ham|Yeah hopefully, i...|\n",
      "|     ham|U don't know how ...|\n",
      "|     ham|What you thinked ...|\n",
      "|     ham|A gram usually ru...|\n",
      "|     ham|K fyi x has a rid...|\n",
      "|     ham|\"Wow. I never rea...|\n",
      "|    spam|SMS. ac Sptv: The...|\n",
      "|     ham|Do you know what ...|\n",
      "|    spam|Congrats! 1 year ...|\n",
      "|     ham|Sorry, I'll call ...|\n",
      "|     ham|Tell where you re...|\n",
      "|     ham|Yes..gauti and se...|\n",
      "|     ham|Your gonna have t...|\n",
      "|     ham|Ha ha ha good jok...|\n",
      "|     ham|Its a part of che...|\n",
      "|     ham|Sorry my roommate...|\n",
      "|     ham|Ok lar i double c...|\n",
      "|    spam|As a valued custo...|\n",
      "|     ham|\"Today is \"\"song ...|\n",
      "|    spam|Urgent UR awarded...|\n",
      "|    spam|\"Did you hear abo...|\n",
      "|     ham|I plane to give o...|\n",
      "|     ham|Wah lucky man... ...|\n",
      "|     ham|Finished class wh...|\n",
      "|     ham|HI BABE IM AT HOM...|\n",
      "|     ham|K..k:)where are y...|\n",
      "|     ham|U can call me now...|\n",
      "|     ham|I am waiting mach...|\n",
      "|     ham|Thats cool. i am ...|\n",
      "|     ham|I like you people...|\n",
      "|     ham|Does not operate ...|\n",
      "|     ham|Its not the same ...|\n",
      "|     ham|Sorry, I'll call ...|\n",
      "|     ham|K. Did you call m...|\n",
      "|     ham|Ok i am on the wa...|\n",
      "|     ham|You will be in th...|\n",
      "|     ham|      Yup next stop.|\n",
      "|     ham|I call you later,...|\n",
      "|     ham|For real when u g...|\n",
      "|     ham|Yes I started to ...|\n",
      "|     ham|I'm really not up...|\n",
      "|     ham|Ela kano.,il down...|\n",
      "|     ham|Yeah do! Don‘t st...|\n",
      "|     ham|Sorry to be a pai...|\n",
      "|     ham|Smile in Pleasure...|\n",
      "|    spam|Please call our c...|\n",
      "|     ham|Havent planning t...|\n",
      "|    spam|\"Your free ringto...|\n",
      "|     ham|Watching telugu m...|\n",
      "|     ham|i see. When we fi...|\n",
      "|     ham|Hi. Wk been ok - ...|\n",
      "|     ham|I see a cup of co...|\n",
      "+--------+--------------------+\n",
      "only showing top 100 rows\n",
      "\n"
     ]
    }
   ],
   "source": [
    "spark.read.option('header','true').csv('mail_data.csv').show(100)"
   ]
  },
  {
   "cell_type": "code",
   "execution_count": 19,
   "id": "30712f4f-a3ff-4750-abe5-20600cad56be",
   "metadata": {},
   "outputs": [],
   "source": [
    "df = spark.createDataFrame([\n",
    "    Row(a=1, b=2., c='string1', d=date(2000, 1, 1), e=datetime(2000, 1, 1, 12, 0)),\n",
    "    Row(a=2, b=3., c='string2', d=date(2000, 2, 1), e=datetime(2000, 1, 2, 12, 0)),\n",
    "    Row(a=4, b=5., c='string3', d=date(2000, 3, 1), e=datetime(2000, 1, 3, 12, 0))\n",
    "])"
   ]
  },
  {
   "cell_type": "code",
   "execution_count": 25,
   "id": "a33d3812-5aab-40bd-ae4f-a3cf07758be4",
   "metadata": {},
   "outputs": [
    {
     "data": {
      "text/plain": [
       "DataFrame[a: bigint, b: double, c: string, d: date, e: timestamp]"
      ]
     },
     "execution_count": 25,
     "metadata": {},
     "output_type": "execute_result"
    }
   ],
   "source": [
    "pandas_df = pd.DataFrame({\n",
    "    'a': [1, 2, 3],\n",
    "    'b': [2., 3., 4.],\n",
    "    'c': ['string1', 'string2', 'string3'],\n",
    "    'd': [date(2000, 1, 1), date(2000, 2, 1), date(2000, 3, 1)],\n",
    "    'e': [datetime(2000, 1, 1, 12, 0), datetime(2000, 1, 2, 12, 0), datetime(2000, 1, 3, 12, 0)]\n",
    "})\n",
    "df = spark.createDataFrame(pandas_df)\n",
    "df"
   ]
  },
  {
   "cell_type": "code",
   "execution_count": 15,
   "id": "4bbf0484-b14a-41f4-8519-4476247d7091",
   "metadata": {},
   "outputs": [],
   "source": [
    "pandas_df = pd.read_csv('drawndata2.csv')"
   ]
  },
  {
   "cell_type": "code",
   "execution_count": 17,
   "id": "60feb62d-d46c-4bb9-ad16-00cd738bf45e",
   "metadata": {},
   "outputs": [],
   "source": [
    "df = spark.read.csv('drawndata2.csv')"
   ]
  },
  {
   "cell_type": "code",
   "execution_count": 18,
   "id": "f4844205-cb26-4619-966d-b3118173a6a4",
   "metadata": {},
   "outputs": [
    {
     "data": {
      "text/plain": [
       "pyspark.sql.dataframe.DataFrame"
      ]
     },
     "execution_count": 18,
     "metadata": {},
     "output_type": "execute_result"
    }
   ],
   "source": [
    "type(df)"
   ]
  },
  {
   "cell_type": "code",
   "execution_count": 21,
   "id": "17219442-e25e-4c85-9624-b5dee4cf57b2",
   "metadata": {},
   "outputs": [
    {
     "name": "stdout",
     "output_type": "stream",
     "text": [
      "PYSPARK_PYTHON: None\n",
      "PYSPARK_DRIVER_PYTHON: None\n"
     ]
    }
   ],
   "source": [
    "import os\n",
    "print(\"PYSPARK_PYTHON:\", os.environ.get('PYSPARK_PYTHON'))\n",
    "print(\"PYSPARK_DRIVER_PYTHON:\", os.environ.get('PYSPARK_DRIVER_PYTHON'))"
   ]
  },
  {
   "cell_type": "code",
   "execution_count": 31,
   "id": "8c4eee44-5364-4588-9f79-26824839821a",
   "metadata": {},
   "outputs": [
    {
     "name": "stdout",
     "output_type": "stream",
     "text": [
      "<module 'pyspark.version' from 'D:\\\\Users\\\\Asus\\\\anaconda3\\\\Lib\\\\site-packages\\\\pyspark\\\\version.py'>\n"
     ]
    }
   ],
   "source": [
    "print(pyspark.version)"
   ]
  },
  {
   "cell_type": "code",
   "execution_count": 38,
   "id": "82a7e267-0db6-4702-a9d8-7c2efe5a9ae8",
   "metadata": {},
   "outputs": [
    {
     "name": "stdout",
     "output_type": "stream",
     "text": [
      "3.5.0\n"
     ]
    }
   ],
   "source": [
    "print(pyspark.__version__)"
   ]
  },
  {
   "cell_type": "code",
   "execution_count": 29,
   "id": "7b5adba8-e83b-4156-9b68-9343c826bc91",
   "metadata": {},
   "outputs": [
    {
     "name": "stdout",
     "output_type": "stream",
     "text": [
      "+------+---+\n",
      "|   _c0|_c1|\n",
      "+------+---+\n",
      "|  Name|Age|\n",
      "|  Fred| 20|\n",
      "| James| 20|\n",
      "|KumDen| 20|\n",
      "+------+---+\n",
      "\n"
     ]
    }
   ],
   "source": [
    "spark.read.csv('check.csv').show()"
   ]
  },
  {
   "cell_type": "code",
   "execution_count": 34,
   "id": "f0b80823-6f7f-4299-a596-5f398a6a2dd0",
   "metadata": {},
   "outputs": [],
   "source": [
    "df_pyspark = spark.read.option('header','true').csv('check.csv',inferSchema=True)"
   ]
  },
  {
   "cell_type": "code",
   "execution_count": 36,
   "id": "a39041af-a0bc-41e3-84de-e56086473ca9",
   "metadata": {},
   "outputs": [
    {
     "name": "stdout",
     "output_type": "stream",
     "text": [
      "+------+---+\n",
      "|  Name|Age|\n",
      "+------+---+\n",
      "|  Fred| 20|\n",
      "| James| 20|\n",
      "|KumDen| 20|\n",
      "+------+---+\n",
      "\n"
     ]
    }
   ],
   "source": [
    "df_pyspark.show()"
   ]
  },
  {
   "cell_type": "code",
   "execution_count": 35,
   "id": "c6fdde62-2d05-49c0-a574-706241a32d15",
   "metadata": {},
   "outputs": [
    {
     "data": {
      "text/plain": [
       "[Row(Name='Fred', Age=20),\n",
       " Row(Name='James', Age=20),\n",
       " Row(Name='KumDen', Age=20)]"
      ]
     },
     "execution_count": 35,
     "metadata": {},
     "output_type": "execute_result"
    }
   ],
   "source": [
    "df_pyspark.head(3)"
   ]
  },
  {
   "cell_type": "code",
   "execution_count": 37,
   "id": "2b3a8cdf-9138-4387-83da-64e12a900ce4",
   "metadata": {},
   "outputs": [
    {
     "name": "stdout",
     "output_type": "stream",
     "text": [
      "root\n",
      " |-- Name: string (nullable = true)\n",
      " |-- Age: integer (nullable = true)\n",
      "\n"
     ]
    }
   ],
   "source": [
    "df_pyspark.printSchema()"
   ]
  },
  {
   "cell_type": "code",
   "execution_count": 39,
   "id": "b11182b3-0e3b-4b50-bac3-29adb1ed8a8a",
   "metadata": {},
   "outputs": [],
   "source": [
    "df_pyspark = spark.read.csv('check.csv',header=True,inferSchema=True)"
   ]
  },
  {
   "cell_type": "code",
   "execution_count": 41,
   "id": "568ad6cc-4488-450b-b8f7-362e5ad3bba6",
   "metadata": {},
   "outputs": [
    {
     "name": "stdout",
     "output_type": "stream",
     "text": [
      "root\n",
      " |-- Name: string (nullable = true)\n",
      " |-- Age: integer (nullable = true)\n",
      "\n"
     ]
    }
   ],
   "source": [
    "df_pyspark.printSchema()"
   ]
  },
  {
   "cell_type": "code",
   "execution_count": 43,
   "id": "850b20e7-8152-4847-a2da-24b5fc0106d3",
   "metadata": {},
   "outputs": [
    {
     "data": {
      "text/plain": [
       "3"
      ]
     },
     "execution_count": 43,
     "metadata": {},
     "output_type": "execute_result"
    }
   ],
   "source": [
    "df_pyspark.count()"
   ]
  },
  {
   "cell_type": "code",
   "execution_count": 45,
   "id": "f38cc1c4-34e6-4203-8138-833d523b7082",
   "metadata": {},
   "outputs": [
    {
     "name": "stdout",
     "output_type": "stream",
     "text": [
      "+------+\n",
      "|  Name|\n",
      "+------+\n",
      "|  Fred|\n",
      "| James|\n",
      "|KumDen|\n",
      "+------+\n",
      "\n"
     ]
    }
   ],
   "source": [
    "df_pyspark.select('Name').show()"
   ]
  },
  {
   "cell_type": "code",
   "execution_count": 47,
   "id": "db89cec6-9129-404c-a890-ef1c9dde70f8",
   "metadata": {},
   "outputs": [],
   "source": [
    "from pyspark.sql.functions import lit\n",
    "\n",
    "df_pyspark = df_pyspark.withColumn('Experience', lit(10))"
   ]
  },
  {
   "cell_type": "code",
   "execution_count": 49,
   "id": "6c0e286e-f556-4616-af9d-65104c3410e8",
   "metadata": {},
   "outputs": [],
   "source": [
    "df_pyspark = df_pyspark.withColumn('New Experience', df_pyspark['Experience'] + 10)"
   ]
  },
  {
   "cell_type": "code",
   "execution_count": 51,
   "id": "83b825f1-1b15-4173-ae2c-d9cc8907dc6a",
   "metadata": {},
   "outputs": [
    {
     "name": "stdout",
     "output_type": "stream",
     "text": [
      "+------+---+----------+--------------+\n",
      "|  Name|Age|Experience|New Experience|\n",
      "+------+---+----------+--------------+\n",
      "|  Fred| 20|        10|            20|\n",
      "| James| 20|        10|            20|\n",
      "|KumDen| 20|        10|            20|\n",
      "+------+---+----------+--------------+\n",
      "\n"
     ]
    }
   ],
   "source": [
    "df_pyspark.show()"
   ]
  },
  {
   "cell_type": "code",
   "execution_count": 165,
   "id": "9b3b2b52-856d-4b85-a947-ca30bfd21d8d",
   "metadata": {},
   "outputs": [
    {
     "name": "stdout",
     "output_type": "stream",
     "text": [
      "EmptyRDD[223] at emptyRDD at NativeMethodAccessorImpl.java:0\n"
     ]
    }
   ],
   "source": [
    "from pyspark.sql import SparkSession\n",
    "spark = SparkSession.builder.appName('SparkByExamples.com').getOrCreate()\n",
    "\n",
    "#Creates Empty RDD\n",
    "emptyRDD = spark.sparkContext.emptyRDD()\n",
    "print(emptyRDD)\n"
   ]
  },
  {
   "cell_type": "code",
   "execution_count": 133,
   "id": "afb51fef-01af-403c-8861-984f6feafc40",
   "metadata": {},
   "outputs": [
    {
     "name": "stdout",
     "output_type": "stream",
     "text": [
      "ParallelCollectionRDD[181] at readRDDFromFile at PythonRDD.scala:289\n"
     ]
    }
   ],
   "source": [
    "#Creates Empty RDD using parallelize\n",
    "rdd2= spark.sparkContext.parallelize([])\n",
    "print(rdd2)\n",
    "\n",
    "#EmptyRDD[205] at emptyRDD at NativeMethodAccessorImpl.java:0\n",
    "#ParallelCollectionRDD[206] at readRDDFromFile at PythonRDD.scala:262"
   ]
  },
  {
   "cell_type": "code",
   "execution_count": 135,
   "id": "b9dc98cd-0eae-4c61-a27a-025dcacbfcce",
   "metadata": {},
   "outputs": [],
   "source": [
    "#Create Schema\n",
    "from pyspark.sql.types import StructType,StructField, StringType\n",
    "schema = StructType([\n",
    "  StructField('firstname', StringType(), True),\n",
    "  StructField('middlename', StringType(), True),\n",
    "  StructField('lastname', StringType(), True)\n",
    "  ])"
   ]
  },
  {
   "cell_type": "code",
   "execution_count": 153,
   "id": "57d5b4c4-036e-42ff-8c7f-806e074c8391",
   "metadata": {},
   "outputs": [],
   "source": [
    "\n",
    "#Create empty DataFrame from empty RDD\n",
    "df = spark.createDataFrame(emptyRDD,schema)"
   ]
  },
  {
   "cell_type": "code",
   "execution_count": 143,
   "id": "ad32fdd1-4c02-40a4-90d5-6c00cafd0e84",
   "metadata": {},
   "outputs": [
    {
     "name": "stdout",
     "output_type": "stream",
     "text": [
      "root\n",
      " |-- firstname: string (nullable = true)\n",
      " |-- middlename: string (nullable = true)\n",
      " |-- lastname: string (nullable = true)\n",
      "\n"
     ]
    }
   ],
   "source": [
    "#Convert empty RDD to Dataframe\n",
    "df1 = emptyRDD.toDF(schema)\n",
    "df1.printSchema()"
   ]
  },
  {
   "cell_type": "code",
   "execution_count": 41,
   "id": "66a7125c-f86e-4a53-b4bd-718d5643cf4e",
   "metadata": {},
   "outputs": [
    {
     "name": "stdout",
     "output_type": "stream",
     "text": [
      "root\n",
      " |-- firstname: string (nullable = true)\n",
      " |-- middlename: string (nullable = true)\n",
      " |-- lastname: string (nullable = true)\n",
      "\n"
     ]
    }
   ],
   "source": [
    "\n",
    "#Create empty DataFrame directly.\n",
    "df2 = spark.createDataFrame([], schema)\n",
    "df2.printSchema()"
   ]
  },
  {
   "cell_type": "code",
   "execution_count": 177,
   "id": "eec6ce55-b5df-4d1c-9e34-355cd14185b1",
   "metadata": {},
   "outputs": [
    {
     "name": "stdout",
     "output_type": "stream",
     "text": [
      "root\n",
      "\n"
     ]
    },
    {
     "data": {
      "text/plain": [
       "DataFrame[]"
      ]
     },
     "execution_count": 177,
     "metadata": {},
     "output_type": "execute_result"
    }
   ],
   "source": [
    "#Create empty DatFrame with no schema (no columns)\n",
    "df3 = spark.createDataFrame([], StructType([]))\n",
    "df3.printSchema()\n",
    "\n",
    "df3"
   ]
  },
  {
   "cell_type": "code",
   "execution_count": 187,
   "id": "4d4f03a9-1006-4abc-88f9-c510ef61376e",
   "metadata": {},
   "outputs": [],
   "source": [
    "df = pd.DataFrame({'a':[1,2,3], 'b':[1,3,5]})"
   ]
  },
  {
   "cell_type": "code",
   "execution_count": 189,
   "id": "d6b1c6f2-c398-44b0-8156-ad1baf50a260",
   "metadata": {},
   "outputs": [],
   "source": [
    "df = create_df_scratch(df)"
   ]
  },
  {
   "cell_type": "code",
   "execution_count": 191,
   "id": "ea9972be-0971-46a1-a173-1803a6bc2d91",
   "metadata": {},
   "outputs": [
    {
     "name": "stdout",
     "output_type": "stream",
     "text": [
      "+---+---+\n",
      "|_c0|_c1|\n",
      "+---+---+\n",
      "|  a|  b|\n",
      "|  1|  1|\n",
      "|  2|  3|\n",
      "|  3|  5|\n",
      "+---+---+\n",
      "\n"
     ]
    }
   ],
   "source": [
    "df.show()"
   ]
  },
  {
   "cell_type": "code",
   "execution_count": 199,
   "id": "755bf25c-0f5e-4f03-9b2a-e55ff1d660f5",
   "metadata": {},
   "outputs": [
    {
     "name": "stdout",
     "output_type": "stream",
     "text": [
      "+---+\n",
      "|_c0|\n",
      "+---+\n",
      "|  a|\n",
      "|  1|\n",
      "|  2|\n",
      "|  3|\n",
      "+---+\n",
      "\n"
     ]
    }
   ],
   "source": [
    "df.select('_c0')"
   ]
  },
  {
   "cell_type": "code",
   "execution_count": 229,
   "id": "1ff3ad39-b8f5-4668-b58b-67fc4da3aa35",
   "metadata": {},
   "outputs": [],
   "source": [
    "import seaborn as sns\n",
    "\n",
    "iris = sns.load_dataset('iris')\n",
    "df = create_df_scratch(iris)"
   ]
  },
  {
   "cell_type": "code",
   "execution_count": 231,
   "id": "fecba7b3-c209-430b-815e-e73506b91b74",
   "metadata": {},
   "outputs": [
    {
     "name": "stdout",
     "output_type": "stream",
     "text": [
      "+------------+-----------+------------+-----------+-------+\n",
      "|sepal_length|sepal_width|petal_length|petal_width|species|\n",
      "+------------+-----------+------------+-----------+-------+\n",
      "|         5.1|        3.5|         1.4|        0.2| setosa|\n",
      "|         4.9|        3.0|         1.4|        0.2| setosa|\n",
      "|         4.7|        3.2|         1.3|        0.2| setosa|\n",
      "|         4.6|        3.1|         1.5|        0.2| setosa|\n",
      "|         5.0|        3.6|         1.4|        0.2| setosa|\n",
      "|         5.4|        3.9|         1.7|        0.4| setosa|\n",
      "|         4.6|        3.4|         1.4|        0.3| setosa|\n",
      "|         5.0|        3.4|         1.5|        0.2| setosa|\n",
      "|         4.4|        2.9|         1.4|        0.2| setosa|\n",
      "|         4.9|        3.1|         1.5|        0.1| setosa|\n",
      "|         5.4|        3.7|         1.5|        0.2| setosa|\n",
      "|         4.8|        3.4|         1.6|        0.2| setosa|\n",
      "|         4.8|        3.0|         1.4|        0.1| setosa|\n",
      "|         4.3|        3.0|         1.1|        0.1| setosa|\n",
      "|         5.8|        4.0|         1.2|        0.2| setosa|\n",
      "|         5.7|        4.4|         1.5|        0.4| setosa|\n",
      "|         5.4|        3.9|         1.3|        0.4| setosa|\n",
      "|         5.1|        3.5|         1.4|        0.3| setosa|\n",
      "|         5.7|        3.8|         1.7|        0.3| setosa|\n",
      "|         5.1|        3.8|         1.5|        0.3| setosa|\n",
      "+------------+-----------+------------+-----------+-------+\n",
      "only showing top 20 rows\n",
      "\n"
     ]
    }
   ],
   "source": [
    "df.show()"
   ]
  },
  {
   "cell_type": "code",
   "execution_count": 233,
   "id": "e666b0f0-0b24-4e5a-859b-197dd66b26c8",
   "metadata": {},
   "outputs": [
    {
     "name": "stdout",
     "output_type": "stream",
     "text": [
      "root\n",
      " |-- sepal_length: string (nullable = true)\n",
      " |-- sepal_width: string (nullable = true)\n",
      " |-- petal_length: string (nullable = true)\n",
      " |-- petal_width: string (nullable = true)\n",
      " |-- species: string (nullable = true)\n",
      "\n"
     ]
    }
   ],
   "source": [
    "df.printSchema()"
   ]
  },
  {
   "cell_type": "code",
   "execution_count": 249,
   "id": "e7cf7fd9-9554-4bae-9d47-565c7472b628",
   "metadata": {},
   "outputs": [
    {
     "name": "stdout",
     "output_type": "stream",
     "text": [
      "+------------+-----------+------------+-----------+-------+\n",
      "|sepal_length|sepal_width|petal_length|petal_width|species|\n",
      "+------------+-----------+------------+-----------+-------+\n",
      "|           5|        3.5|         1.4|        0.2| setosa|\n",
      "|           4|        3.0|         1.4|        0.2| setosa|\n",
      "|           4|        3.2|         1.3|        0.2| setosa|\n",
      "|           4|        3.1|         1.5|        0.2| setosa|\n",
      "|           5|        3.6|         1.4|        0.2| setosa|\n",
      "|           5|        3.9|         1.7|        0.4| setosa|\n",
      "|           4|        3.4|         1.4|        0.3| setosa|\n",
      "|           5|        3.4|         1.5|        0.2| setosa|\n",
      "|           4|        2.9|         1.4|        0.2| setosa|\n",
      "|           4|        3.1|         1.5|        0.1| setosa|\n",
      "|           5|        3.7|         1.5|        0.2| setosa|\n",
      "|           4|        3.4|         1.6|        0.2| setosa|\n",
      "|           4|        3.0|         1.4|        0.1| setosa|\n",
      "|           4|        3.0|         1.1|        0.1| setosa|\n",
      "|           5|        4.0|         1.2|        0.2| setosa|\n",
      "|           5|        4.4|         1.5|        0.4| setosa|\n",
      "|           5|        3.9|         1.3|        0.4| setosa|\n",
      "|           5|        3.5|         1.4|        0.3| setosa|\n",
      "|           5|        3.8|         1.7|        0.3| setosa|\n",
      "|           5|        3.8|         1.5|        0.3| setosa|\n",
      "+------------+-----------+------------+-----------+-------+\n",
      "only showing top 20 rows\n",
      "\n"
     ]
    }
   ],
   "source": [
    "# Cast columns to different data types\n",
    "df = df.withColumn(\"sepal_length\", col(\"sepal_length\").cast(\"integer\")) \\\n",
    "              .withColumn(\"sepal_width\", col(\"sepal_width\").cast(\"float\"))\n",
    "\n",
    "# Display the DataFrame with casted columns\n",
    "df.show()"
   ]
  },
  {
   "cell_type": "code",
   "execution_count": 251,
   "id": "e7391d05-32cf-4717-8785-cacde29cb365",
   "metadata": {},
   "outputs": [
    {
     "name": "stdout",
     "output_type": "stream",
     "text": [
      "root\n",
      " |-- sepal_length: integer (nullable = true)\n",
      " |-- sepal_width: float (nullable = true)\n",
      " |-- petal_length: string (nullable = true)\n",
      " |-- petal_width: string (nullable = true)\n",
      " |-- species: string (nullable = true)\n",
      "\n"
     ]
    }
   ],
   "source": [
    "df.printSchema()"
   ]
  },
  {
   "cell_type": "code",
   "execution_count": null,
   "id": "2092dae0-c635-4086-b89d-16d82dae9438",
   "metadata": {},
   "outputs": [],
   "source": []
  }
 ],
 "metadata": {
  "kernelspec": {
   "display_name": "Python 3 (ipykernel)",
   "language": "python",
   "name": "python3"
  },
  "language_info": {
   "codemirror_mode": {
    "name": "ipython",
    "version": 3
   },
   "file_extension": ".py",
   "mimetype": "text/x-python",
   "name": "python",
   "nbconvert_exporter": "python",
   "pygments_lexer": "ipython3",
   "version": "3.12.4"
  }
 },
 "nbformat": 4,
 "nbformat_minor": 5
}
