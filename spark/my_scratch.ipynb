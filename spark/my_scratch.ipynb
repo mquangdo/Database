{
 "cells": [
  {
   "cell_type": "code",
   "execution_count": 6,
   "id": "a464a3fd-c2b4-4b4a-bd48-b43a83cf00da",
   "metadata": {},
   "outputs": [],
   "source": [
    "import pyspark\n",
    "import pandas as pd\n",
    "from pyspark.sql import SparkSession\n",
    "\n",
    "spark = SparkSession.builder.appName('Test').getOrCreate()"
   ]
  },
  {
   "cell_type": "code",
   "execution_count": 10,
   "id": "7410ca5a-bf87-480a-8b2d-d8be432a6aa9",
   "metadata": {},
   "outputs": [
    {
     "data": {
      "text/html": [
       "\n",
       "            <div>\n",
       "                <p><b>SparkSession - in-memory</b></p>\n",
       "                \n",
       "        <div>\n",
       "            <p><b>SparkContext</b></p>\n",
       "\n",
       "            <p><a href=\"http://LAPTOP-LR8G760H:4041\">Spark UI</a></p>\n",
       "\n",
       "            <dl>\n",
       "              <dt>Version</dt>\n",
       "                <dd><code>v3.5.1</code></dd>\n",
       "              <dt>Master</dt>\n",
       "                <dd><code>local[*]</code></dd>\n",
       "              <dt>AppName</dt>\n",
       "                <dd><code>Test</code></dd>\n",
       "            </dl>\n",
       "        </div>\n",
       "        \n",
       "            </div>\n",
       "        "
      ],
      "text/plain": [
       "<pyspark.sql.session.SparkSession at 0x1e826673c50>"
      ]
     },
     "execution_count": 10,
     "metadata": {},
     "output_type": "execute_result"
    }
   ],
   "source": [
    "spark"
   ]
  },
  {
   "cell_type": "code",
   "execution_count": 124,
   "id": "71a80490-5a2f-4744-a7c6-a4d2696dbe95",
   "metadata": {},
   "outputs": [],
   "source": [
    "def create_df_scratch(df: pd.DataFrame):\n",
    "    df.to_csv('a', index=False)\n",
    "    spark_df = spark.read.csv('a')\n",
    "    return spark_df"
   ]
  },
  {
   "cell_type": "code",
   "execution_count": 126,
   "id": "0e2964f1-6857-47db-aad4-f3e92377cf98",
   "metadata": {},
   "outputs": [],
   "source": [
    "df = pd.DataFrame({'a':[1], 'b':[2]})"
   ]
  },
  {
   "cell_type": "code",
   "execution_count": 128,
   "id": "cd47d3be-6579-40cb-9975-650b422948d0",
   "metadata": {},
   "outputs": [],
   "source": [
    "df = create_df_scratch(df)"
   ]
  },
  {
   "cell_type": "code",
   "execution_count": 130,
   "id": "f7241382-ddcb-4456-ad10-4086c76ffb10",
   "metadata": {},
   "outputs": [
    {
     "name": "stdout",
     "output_type": "stream",
     "text": [
      "+---+---+\n",
      "|_c0|_c1|\n",
      "+---+---+\n",
      "|  a|  b|\n",
      "|  1|  2|\n",
      "+---+---+\n",
      "\n"
     ]
    }
   ],
   "source": [
    "df.show()"
   ]
  },
  {
   "cell_type": "code",
   "execution_count": 140,
   "id": "96f68f83-b7d0-476e-afe4-5fd7a6b98693",
   "metadata": {},
   "outputs": [],
   "source": [
    "import seaborn as sns\n",
    "\n",
    "iris = sns.load_dataset('iris')\n",
    "df = create_df_scratch(iris)"
   ]
  },
  {
   "cell_type": "code",
   "execution_count": 146,
   "id": "57c9c28a-d2a6-4957-a450-c804bfdbbba6",
   "metadata": {},
   "outputs": [
    {
     "name": "stdout",
     "output_type": "stream",
     "text": [
      "+------------+-----------+------------+-----------+-------+\n",
      "|         _c0|        _c1|         _c2|        _c3|    _c4|\n",
      "+------------+-----------+------------+-----------+-------+\n",
      "|sepal_length|sepal_width|petal_length|petal_width|species|\n",
      "|         5.1|        3.5|         1.4|        0.2| setosa|\n",
      "|         4.9|        3.0|         1.4|        0.2| setosa|\n",
      "|         4.7|        3.2|         1.3|        0.2| setosa|\n",
      "|         4.6|        3.1|         1.5|        0.2| setosa|\n",
      "|         5.0|        3.6|         1.4|        0.2| setosa|\n",
      "|         5.4|        3.9|         1.7|        0.4| setosa|\n",
      "|         4.6|        3.4|         1.4|        0.3| setosa|\n",
      "|         5.0|        3.4|         1.5|        0.2| setosa|\n",
      "|         4.4|        2.9|         1.4|        0.2| setosa|\n",
      "|         4.9|        3.1|         1.5|        0.1| setosa|\n",
      "|         5.4|        3.7|         1.5|        0.2| setosa|\n",
      "|         4.8|        3.4|         1.6|        0.2| setosa|\n",
      "|         4.8|        3.0|         1.4|        0.1| setosa|\n",
      "|         4.3|        3.0|         1.1|        0.1| setosa|\n",
      "|         5.8|        4.0|         1.2|        0.2| setosa|\n",
      "|         5.7|        4.4|         1.5|        0.4| setosa|\n",
      "|         5.4|        3.9|         1.3|        0.4| setosa|\n",
      "|         5.1|        3.5|         1.4|        0.3| setosa|\n",
      "|         5.7|        3.8|         1.7|        0.3| setosa|\n",
      "|         5.1|        3.8|         1.5|        0.3| setosa|\n",
      "|         5.4|        3.4|         1.7|        0.2| setosa|\n",
      "|         5.1|        3.7|         1.5|        0.4| setosa|\n",
      "|         4.6|        3.6|         1.0|        0.2| setosa|\n",
      "|         5.1|        3.3|         1.7|        0.5| setosa|\n",
      "|         4.8|        3.4|         1.9|        0.2| setosa|\n",
      "|         5.0|        3.0|         1.6|        0.2| setosa|\n",
      "|         5.0|        3.4|         1.6|        0.4| setosa|\n",
      "|         5.2|        3.5|         1.5|        0.2| setosa|\n",
      "|         5.2|        3.4|         1.4|        0.2| setosa|\n",
      "|         4.7|        3.2|         1.6|        0.2| setosa|\n",
      "|         4.8|        3.1|         1.6|        0.2| setosa|\n",
      "|         5.4|        3.4|         1.5|        0.4| setosa|\n",
      "|         5.2|        4.1|         1.5|        0.1| setosa|\n",
      "|         5.5|        4.2|         1.4|        0.2| setosa|\n",
      "|         4.9|        3.1|         1.5|        0.2| setosa|\n",
      "|         5.0|        3.2|         1.2|        0.2| setosa|\n",
      "|         5.5|        3.5|         1.3|        0.2| setosa|\n",
      "|         4.9|        3.6|         1.4|        0.1| setosa|\n",
      "|         4.4|        3.0|         1.3|        0.2| setosa|\n",
      "|         5.1|        3.4|         1.5|        0.2| setosa|\n",
      "|         5.0|        3.5|         1.3|        0.3| setosa|\n",
      "|         4.5|        2.3|         1.3|        0.3| setosa|\n",
      "|         4.4|        3.2|         1.3|        0.2| setosa|\n",
      "|         5.0|        3.5|         1.6|        0.6| setosa|\n",
      "|         5.1|        3.8|         1.9|        0.4| setosa|\n",
      "|         4.8|        3.0|         1.4|        0.3| setosa|\n",
      "|         5.1|        3.8|         1.6|        0.2| setosa|\n",
      "|         4.6|        3.2|         1.4|        0.2| setosa|\n",
      "|         5.3|        3.7|         1.5|        0.2| setosa|\n",
      "+------------+-----------+------------+-----------+-------+\n",
      "only showing top 50 rows\n",
      "\n"
     ]
    }
   ],
   "source": []
  },
  {
   "cell_type": "code",
   "execution_count": null,
   "id": "58783cf7-2c8b-40f4-b82d-0df3c5216db6",
   "metadata": {},
   "outputs": [],
   "source": []
  }
 ],
 "metadata": {
  "kernelspec": {
   "display_name": "Python 3 (ipykernel)",
   "language": "python",
   "name": "python3"
  },
  "language_info": {
   "codemirror_mode": {
    "name": "ipython",
    "version": 3
   },
   "file_extension": ".py",
   "mimetype": "text/x-python",
   "name": "python",
   "nbconvert_exporter": "python",
   "pygments_lexer": "ipython3",
   "version": "3.12.4"
  }
 },
 "nbformat": 4,
 "nbformat_minor": 5
}
