{
 "cells": [
  {
   "cell_type": "code",
   "execution_count": 2,
   "id": "0d498068-b2a6-4669-bb1c-d13031d4432f",
   "metadata": {},
   "outputs": [
    {
     "name": "stdout",
     "output_type": "stream",
     "text": [
      "Requirement already satisfied: pyspark in d:\\users\\asus\\anaconda3\\lib\\site-packages (3.5.1)\n",
      "Requirement already satisfied: py4j==0.10.9.7 in d:\\users\\asus\\anaconda3\\lib\\site-packages (from pyspark) (0.10.9.7)\n"
     ]
    }
   ],
   "source": [
    "!pip install pyspark"
   ]
  },
  {
   "cell_type": "code",
   "execution_count": 62,
   "id": "29e7ec18-37f8-4f73-bdad-5d3a6640c432",
   "metadata": {},
   "outputs": [],
   "source": [
    "import pyspark\n",
    "import pandas as pd"
   ]
  },
  {
   "cell_type": "code",
   "execution_count": 64,
   "id": "815f446e-92e9-4b58-a7f7-b01ea376a10f",
   "metadata": {},
   "outputs": [],
   "source": [
    "from pyspark.sql import SparkSession"
   ]
  },
  {
   "cell_type": "code",
   "execution_count": 66,
   "id": "44bfac9d-e6da-4043-be0e-edfe36d249a4",
   "metadata": {},
   "outputs": [],
   "source": [
    "spark = SparkSession.builder.appName('Test').getOrCreate()"
   ]
  },
  {
   "cell_type": "code",
   "execution_count": 68,
   "id": "7abad8fb-095e-4304-91e6-eabac1d849f7",
   "metadata": {},
   "outputs": [
    {
     "data": {
      "text/html": [
       "\n",
       "            <div>\n",
       "                <p><b>SparkSession - in-memory</b></p>\n",
       "                \n",
       "        <div>\n",
       "            <p><b>SparkContext</b></p>\n",
       "\n",
       "            <p><a href=\"http://LAPTOP-LR8G760H:4041\">Spark UI</a></p>\n",
       "\n",
       "            <dl>\n",
       "              <dt>Version</dt>\n",
       "                <dd><code>v3.5.1</code></dd>\n",
       "              <dt>Master</dt>\n",
       "                <dd><code>local[*]</code></dd>\n",
       "              <dt>AppName</dt>\n",
       "                <dd><code>Test</code></dd>\n",
       "            </dl>\n",
       "        </div>\n",
       "        \n",
       "            </div>\n",
       "        "
      ],
      "text/plain": [
       "<pyspark.sql.session.SparkSession at 0x194f133e2d0>"
      ]
     },
     "execution_count": 68,
     "metadata": {},
     "output_type": "execute_result"
    }
   ],
   "source": [
    "spark"
   ]
  },
  {
   "cell_type": "code",
   "execution_count": 70,
   "id": "c4d6bcb2-ff4a-48aa-8e93-10161ac3961e",
   "metadata": {},
   "outputs": [],
   "source": [
    "df = pd.DataFrame({'Name':['Krish','Sudhanshu','Sunny'], 'age':[31,30,29]})"
   ]
  },
  {
   "cell_type": "code",
   "execution_count": 78,
   "id": "5ff9780e-cb9c-4407-ab0c-a71ec912b448",
   "metadata": {},
   "outputs": [],
   "source": [
    "df_pyspark = spark.read.csv('drawndata2.csv')"
   ]
  },
  {
   "cell_type": "code",
   "execution_count": 83,
   "id": "7290ebf8-95b0-4056-90cb-9598581e5700",
   "metadata": {},
   "outputs": [
    {
     "name": "stdout",
     "output_type": "stream",
     "text": [
      "+------------------+------------------+---+\n",
      "|               _c0|               _c1|_c2|\n",
      "+------------------+------------------+---+\n",
      "|                 x|                 y|  z|\n",
      "| 469.7593545676588| 453.5749462453128|  a|\n",
      "| 535.3318190327325|435.22184844984116|  a|\n",
      "| 504.2855261364733|437.76757841503013|  a|\n",
      "| 469.8913980729759| 368.3716515632428|  a|\n",
      "| 405.4256216301205|403.14154552279024|  a|\n",
      "| 397.2001298856445| 431.8145030021952|  a|\n",
      "|450.17444386447113| 353.0049996391955|  a|\n",
      "|  322.326789371342|325.76581870693434|  a|\n",
      "|379.25993898137847| 356.5626174699577|  a|\n",
      "|300.24926412324896| 312.7040139415135|  a|\n",
      "| 282.8239219153107|325.67904307885397|  a|\n",
      "| 298.9207732937464|309.04817651291677|  a|\n",
      "| 265.7206117087436| 282.4292080857882|  a|\n",
      "|  221.013712736612|271.26697310525213|  a|\n",
      "|242.98068239486904| 245.9352398408649|  a|\n",
      "| 165.8870209647585|252.84265858518413|  a|\n",
      "|157.25578238527729|175.99456541390325|  a|\n",
      "| 182.5766765626396| 171.5595083340495|  a|\n",
      "|109.53316266929613|159.46272730561202|  a|\n",
      "+------------------+------------------+---+\n",
      "only showing top 20 rows\n",
      "\n"
     ]
    }
   ],
   "source": [
    "df_pyspark.show()"
   ]
  },
  {
   "cell_type": "code",
   "execution_count": null,
   "id": "30712f4f-a3ff-4750-abe5-20600cad56be",
   "metadata": {},
   "outputs": [],
   "source": []
  },
  {
   "cell_type": "code",
   "execution_count": null,
   "id": "498cf6e6-843a-4089-b6d2-be0f9519823f",
   "metadata": {},
   "outputs": [],
   "source": []
  }
 ],
 "metadata": {
  "kernelspec": {
   "display_name": "Python 3 (ipykernel)",
   "language": "python",
   "name": "python3"
  },
  "language_info": {
   "codemirror_mode": {
    "name": "ipython",
    "version": 3
   },
   "file_extension": ".py",
   "mimetype": "text/x-python",
   "name": "python",
   "nbconvert_exporter": "python",
   "pygments_lexer": "ipython3",
   "version": "3.12.4"
  }
 },
 "nbformat": 4,
 "nbformat_minor": 5
}
